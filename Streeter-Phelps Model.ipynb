{
 "cells": [
  {
   "cell_type": "markdown",
   "metadata": {},
   "source": [
    "## Steeter-Phelps Model\n",
    "\n",
    "Dissolved oxygen (DO) is a critical component of the health of an aquatic ecosystem. The introduction of organic wastes into waterways acts as a food source for microorganisms that simultaneously reduce the DO. The biochemical oxygen demand (BOD) is a measure of the amount of organic waste present in a water sample. The Streeter–Phelps model is often used to describe how DO and BOD change with distance in a river or stream due to degradation of BOD and re-aeration from the atmosphere. The model relates the DO concentration $C$ and BOD concentrations $L$ at location $x$ downstream from a point source of BOD as follows:\n",
    "\n",
    "$C(x)=C_{s} - \\left[  \\frac{k_{d}L_{0}}{k_{r}-k_{d}} ( e^{\\frac{-k_{d}x}{U}} - e^{\\frac{-k_{r}x}{U}} ) + ( C_{s} - C_{0} ) e^{\\frac{-k_{r}x}{U}} \\right]$\n",
    "\n",
    "$L(x)=L_{0}e^{ \\frac{-k_{d}x}{U}}$\n",
    "\n",
    "| Parameter |  Symbol |\n",
    "|:----------|:-------------|\n",
    "| Saturated DO concentration  |  $C_{s}$ |\n",
    "| Initial DO concentration |  $C_{0}$ |\n",
    "| Initial BOD concentration |  $L_{0}$ |\n",
    "| BOD degradation rate | $k_{d}$| \n",
    "| Oxygen re-aeration rate |$k_{a}$ | \n",
    "| River velocity |$U$ | "
   ]
  },
  {
   "cell_type": "markdown",
   "metadata": {},
   "source": [
    "The values of these parameters for the model must be defined in Python to explore their relationships."
   ]
  },
  {
   "cell_type": "code",
   "execution_count": 39,
   "metadata": {
    "collapsed": true
   },
   "outputs": [],
   "source": [
    "Cs = 9    # mg/L\n",
    "C0 = 7    # mg/L\n",
    "L0 = 20  # mg/L\n",
    "kd = 0.2  # 1/hr\n",
    "kr = 0.3   # 1/hr\n",
    "U = 2       # km/hr"
   ]
  },
  {
   "cell_type": "markdown",
   "metadata": {},
   "source": [
    "To incorporate the model in Python, functions must be defined for DO and BOD. The NumPy Python library is needed for this exercise for basic functions and array development. The \"#\" is used to make comments in the code."
   ]
  },
  {
   "cell_type": "code",
   "execution_count": 6,
   "metadata": {},
   "outputs": [],
   "source": [
    "# import the numpy library using np \"alias\" to shorten the amount of code writing\n",
    "import numpy as np\n",
    "\n",
    "# define the BOD function\n",
    "def L(x, L0, kd, U): \n",
    "    return L0 * np.exp(-1 * kd * x / U)\n",
    "\n",
    "# define the DO function\n",
    "def C(x, Cs, C0, L0, kd, kr, U):\n",
    "    return Cs - (kd * L0 / (kr - kd) * (np.exp(-kd*x/U) - np.exp(-kr*x/U)) + (Cs - C0) * np.exp(-kr*x/U))"
   ]
  },
  {
   "cell_type": "markdown",
   "metadata": {},
   "source": [
    "To apply the model for these parameters, it's easiest to make $x$ values representing points in a river for the model using numpy's \"arange\" function, which provides an array of values given the (start, end, increment) arguments."
   ]
  },
  {
   "cell_type": "code",
   "execution_count": 27,
   "metadata": {},
   "outputs": [],
   "source": [
    "x = np.arange(0,50,0.2)  # km"
   ]
  },
  {
   "cell_type": "markdown",
   "metadata": {},
   "source": [
    "The BOD and DO at every point $x$ in the river can be determined using the functions. An array of uniform values for a \"critical\" DO level of 5 mg/L for the river is also constructed."
   ]
  },
  {
   "cell_type": "code",
   "execution_count": 29,
   "metadata": {
    "collapsed": true
   },
   "outputs": [],
   "source": [
    "BOD = L(x, L0, kd, U)                     # array of BOD values in mg/L\n",
    "DO = C(x, Cs, C0, L0, kd, kr, U)     # array of DO values in mg/L\n",
    "critical = 5 * np.ones(len(x))    # array of critical DO values in mg/L"
   ]
  },
  {
   "cell_type": "markdown",
   "metadata": {},
   "source": [
    "The matplotlib library can now be used to plot the results, including a line showing a critical DO of 5 mg/L for this river."
   ]
  },
  {
   "cell_type": "code",
   "execution_count": 45,
   "metadata": {},
   "outputs": [
    {
     "data": {
      "image/png": "[encoded data removed]",
      "text/plain": [
       "<matplotlib.figure.Figure at 0x2c4f628a710>"
      ]
     },
     "metadata": {},
     "output_type": "display_data"
    }
   ],
   "source": [
    "%matplotlib inline\n",
    "import matplotlib.pyplot as plt\n",
    "\n",
    "plt.plot(x,BOD, 'g-', label = \"Biochemical Oxygen Demand\")\n",
    "plt.plot(x,DO, 'b-', label = \"Dissolved Oxygen\")\n",
    "plt.plot(x,critical, 'r--', label = \"Critical Dissolved Oxygen Level\")\n",
    "plt.xlabel(\"Distance (km)\")\n",
    "plt.ylabel(\"Dissolved Oxygen (mg/L)\")\n",
    "leg = plt.legend()"
   ]
  },
  {
   "cell_type": "markdown",
   "metadata": {},
   "source": [
    "Note that for the default parameter values above, the DO drops below the critical level for ~10 km."
   ]
  },
  {
   "cell_type": "code",
   "execution_count": null,
   "metadata": {
    "collapsed": true
   },
   "outputs": [],
   "source": []
  }
 ],
 "metadata": {
  "kernelspec": {
   "display_name": "Python 3",
   "language": "python",
   "name": "python3"
  },
  "language_info": {
   "codemirror_mode": {
    "name": "ipython",
    "version": 3
   },
   "file_extension": ".py",
   "mimetype": "text/x-python",
   "name": "python",
   "nbconvert_exporter": "python",
   "pygments_lexer": "ipython3",
   "version": "3.6.1"
  }
 },
 "nbformat": 4,
 "nbformat_minor": 2
}
